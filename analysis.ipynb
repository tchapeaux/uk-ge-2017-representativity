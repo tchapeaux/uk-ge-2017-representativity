{
 "cells": [
  {
   "cell_type": "markdown",
   "metadata": {
    "collapsed": false
   },
   "source": [
    "# Assessing the representativity of the UK Parliament following the 2017 General Election\n",
    "\n",
    "Or: how Theresa May came into power with less than a third of the UK casting a vote for her party.\n",
    "\n",
    "TL-DR: FPTP + abstention\n",
    "\n",
    "## Background and definitions\n",
    "\n",
    "The UK (as many western democracies) is a representative democracy, meaning it elects people to represent them and make decisions.\n",
    "\n",
    "The basic idea is as follow: the UK is geographically divided into 650 **constituencies** of roughly the same number of voters, each of which holds a mini-election for one **seat** in the House of Commons.\n",
    "\n",
    "These mini-elections are done using what is called a **First-Past the Post** (FPTP) system, meaning all voters cast one vote for one of the candidate, and the candidate with the more votes wins the seat. This system has the advantage of being easy to understand and put in place, but also has several drawbacks. For example, a candidate does not need 50% support to win, just having the highest score (votes might be split e.g. 45-40-15).\n",
    "\n",
    "The population legally allowed to cast a vote is called the **electorate**. The number of **valid votes** (votes which are counted to determine seats) is however smaller than the number of people in the electorate, as voting is not mandatory and some votes might be spoiled (i.e. made unvalid for a variety of reasons). The ratio of valid votes against the electorate is called the **turnout**.\n",
    "\n",
    "After the election, the **government** is elected based on a majority of seats in the House of Commons. The government can then propose all sort of ideas to improve the country, in the form of laws that are voted in the House of Commons by their majority.\n",
    "\n",
    "To simplify the whole process, candidates are organized into **parties**, which publish a political **manifesto** prior to the election. When you are deciding which candidate to vote for, you can refer to the manifesto to know what are the laws they are planning to pass if they take part in a government.\n",
    "\n",
    "There are many additional subtleties to consider (electoral pacts, majority or coalitions governments, the official opposition, party leaders, the Monarch's role, etc.) but we will ignore them here.\n",
    "\n",
    "## 2017 Result\n",
    "\n",
    "See https://www.bbc.com/news/election/2017/results\n",
    "\n",
    "Turnout was 68.7%.\n",
    "\n",
    "Following the election, a government was formed by the *Conservative* party, with support from the *Democratic Unionist Party*.\n",
    "\n",
    "## Problem definition\n",
    "\n",
    "We will look at how well the parliament, and the government, actually represent the electorate, using two metrics:\n",
    "1) how many eligible voters have voted for an actual member of the House of Commons\n",
    "2) how many eligible voters have actually voted for the government's manifesto.\n",
    "\n",
    "Some hypotheses:\n",
    "- We assume voters vote for a party, not a candidate\n",
    "- We assume voters vote for their preferred choice\n",
    "- We assume non-voters were not satisfied with any of the choices\n",
    "\n",
    "About the 2nd hypothesis, we know that it is not exactly the case: as a consequence of FPTP, some people will vote \"tactically\" for a less-liked but better-placed candidate. This means our analysis will be optimistic relating to the representativity of Parliament.\n",
    "\n",
    "## Data\n",
    "\n",
    "The data is from the Electoral Commission website and can be found here : https://www.electoralcommission.org.uk/who-we-are-and-what-we-do/elections-and-referendums/past-elections-and-referendums/uk-general-elections/results-and-turnout-2017-uk-general-election\n",
    "\n",
    "## Analysis"
   ]
  },
  {
   "cell_type": "markdown",
   "metadata": {
    "collapsed": false
   },
   "source": [
    "Before we do anything, let's import some libraries."
   ]
  },
  {
   "cell_type": "code",
   "execution_count": 3,
   "metadata": {
    "collapsed": false
   },
   "outputs": [
   ],
   "source": [
    "import csv"
   ]
  },
  {
   "cell_type": "markdown",
   "metadata": {
    "collapsed": false
   },
   "source": [
    "Let's load some administrative data about each constituency"
   ]
  },
  {
   "cell_type": "code",
   "execution_count": 7,
   "metadata": {
    "collapsed": false
   },
   "outputs": [
    {
     "name": "stdout",
     "output_type": "stream",
     "text": [
      "Loaded administrative data for  650 constituencies\n"
     ]
    }
   ],
   "source": [
    "constituencies_info = {}\n",
    "\n",
    "with open(\"2017-UKPGE-Electoral-Data - Administrative data.csv\", encoding='utf8') as f:\n",
    "    # Note: there's a typo in the CSV file\n",
    "    # Party Identifer => Party Identifier\n",
    "    reader = csv.DictReader(f)\n",
    "\n",
    "    for row in reader:\n",
    "        ons = row[\"ONS Code\"]\n",
    "        name = row[\"Constituency\"]\n",
    "        electorate_nb = row[\"Electorate \"]  # extra space because why not\n",
    "        valid_vote_nb = row[\"Total number of valid votes counted\"]\n",
    "\n",
    "        assert ons not in constituencies_info\n",
    "\n",
    "        constituencies_info[ons] = {\n",
    "            'name': name,\n",
    "            'electorate_nb': int(electorate_nb.replace(',', '')),\n",
    "            'valid_vote_nb': int(valid_vote_nb.replace(',', ''))\n",
    "        }\n",
    "\n",
    "print(\"Loaded administrative data for\", len(constituencies_info.keys()), \"constituencies\")"
   ]
  },
  {
   "cell_type": "markdown",
   "metadata": {
    "collapsed": false
   },
   "source": [
    "Now let's load the election results."
   ]
  },
  {
   "cell_type": "code",
   "execution_count": 9,
   "metadata": {
    "collapsed": false
   },
   "outputs": [
    {
     "name": "stdout",
     "output_type": "stream",
     "text": [
      "Loaded results for  650 constituencies\n"
     ]
    }
   ],
   "source": [
    "results_by_constituencies = {}\n",
    "\n",
    "with open(\"2017-UKPGE-Electoral-Data - Results.csv\", encoding='utf8') as f:\n",
    "    reader = csv.DictReader(f)\n",
    "\n",
    "    for row in reader:\n",
    "        ons = row[\"ONS Code\"]\n",
    "        party = row[\"Party Identifer\"]  # typo in the data because why not\n",
    "        result = int(row[\"Valid votes\"])\n",
    "        if ons not in results_by_constituencies:\n",
    "            results_by_constituencies[ons] = {}\n",
    "        # if party.startswith(\"Independent\"):\n",
    "        #    party += row[\"Surname\"]\n",
    "        results_by_constituencies[ons][party] = result\n",
    "\n",
    "print(\"Loaded results for \", len(results_by_constituencies.keys()), \"constituencies\")\n"
   ]
  },
  {
   "cell_type": "markdown",
   "metadata": {
    "collapsed": false
   },
   "source": [
    "We can check that we reproduce the election results:"
   ]
  },
  {
   "cell_type": "code",
   "execution_count": 10,
   "metadata": {
    "collapsed": false
   },
   "outputs": [
    {
     "name": "stdout",
     "output_type": "stream",
     "text": [
      "== Party seats ==\n",
      "\t Conservative 317\n",
      "\t Labour 262\n",
      "\t Liberal Democrats 12\n",
      "\t Green Party 1\n",
      "\t Speaker 1\n",
      "\t DUP 10\n",
      "\t Sinn Féin 7\n",
      "\t Independent 1\n",
      "\t SNP 35\n",
      "\t Plaid Cymru 4\n"
     ]
    }
   ],
   "source": [
    "seats = {}\n",
    "\n",
    "for ons in results_by_constituencies.keys():\n",
    "    winner = max(results_by_constituencies[ons], key=results_by_constituencies[ons].get)\n",
    "    if winner not in seats:\n",
    "        seats[winner] = 0\n",
    "    seats[winner] += 1\n",
    "\n",
    "print(\"== Party seats ==\")\n",
    "for party in seats.keys():\n",
    "    print(\"\\t\", party, seats[party])"
   ]
  },
  {
   "cell_type": "markdown",
   "metadata": {
    "collapsed": false
   },
   "source": [
    "There are indeed the results reported by the BBC : https://www.bbc.com/news/election/2017/results\n",
    "\n",
    "(Note that the BBC counts the Speaker as a Conservative)"
   ]
  },
  {
   "cell_type": "markdown",
   "metadata": {
    "collapsed": false
   },
   "source": [
    "Let's also calculate the total number of voters:"
   ]
  },
  {
   "cell_type": "code",
   "execution_count": 12,
   "metadata": {
    "collapsed": false
   },
   "outputs": [
    {
     "name": "stdout",
     "output_type": "stream",
     "text": [
      "There were 46835433 voters in the election\n"
     ]
    }
   ],
   "source": [
    "electorate_total = 0\n",
    "\n",
    "for ons in results_by_constituencies.keys():\n",
    "    electorate = constituencies_info[ons][\"electorate_nb\"]\n",
    "    electorate_total += electorate\n",
    "\n",
    "print(\"There were\", electorate_total, \"voters in the election\")"
   ]
  },
  {
   "cell_type": "markdown",
   "metadata": {
    "collapsed": false
   },
   "source": [
    "Let's look at our first point: how many people have voted for the candidate which ended up winning their seat?\n",
    "\n",
    "We call them \"happy voters\"."
   ]
  },
  {
   "cell_type": "code",
   "execution_count": 13,
   "metadata": {
    "collapsed": false
   },
   "outputs": [
    {
     "name": "stdout",
     "output_type": "stream",
     "text": [
      "There were 17990241 happy voters in the election\n",
      "These represent 38.0 % of the electorate.\n"
     ]
    }
   ],
   "source": [
    "happy_total = 0\n",
    "\n",
    "for ons in results_by_constituencies.keys():\n",
    "    winner = max(results_by_constituencies[ons], key=results_by_constituencies[ons].get)\n",
    "\n",
    "    nb_of_happy_voters = results_by_constituencies[ons][winner]\n",
    "    happy_total += nb_of_happy_voters\n",
    "\n",
    "print(\"There were\", happy_total, \"happy voters in the election\")\n",
    "print(\"These represent\", 100 * round(happy_total / electorate_total, 2), \"% of the electorate.\")"
   ]
  },
  {
   "cell_type": "markdown",
   "metadata": {
    "collapsed": false
   },
   "source": [
    "And now let's look at the second point: how many people have voted for parties which eventually became part of the government?\n",
    "\n",
    "We call them \"majority voters\"."
   ]
  },
  {
   "cell_type": "code",
   "execution_count": 20,
   "metadata": {
    "collapsed": false
   },
   "outputs": [
    {
     "name": "stdout",
     "output_type": "stream",
     "text": [
      "There were 13929000 majority voters in the election\n",
      "These represent 30.0 % of the electorate.\n"
     ]
    }
   ],
   "source": [
    "majority_total = 0\n",
    "\n",
    "for ons in results_by_constituencies.keys():\n",
    "    nb_of_majority_voters = 0\n",
    "    if \"Conservative\" in results_by_constituencies[ons]:\n",
    "        nb_of_majority_voters += results_by_constituencies[ons][\"Conservative\"]\n",
    "    if \"DUP\" in results_by_constituencies[ons]:\n",
    "        nb_of_majority_voters += results_by_constituencies[ons][\"DUP\"]\n",
    "    majority_total += nb_of_majority_voters\n",
    "\n",
    "print(\"There were\", majority_total, \"majority voters in the election\")\n",
    "print(\"These represent\", 100 * round(majority_total / electorate_total, 2), \"% of the electorate.\")"
   ]
  },
  {
   "cell_type": "markdown",
   "metadata": {
    "collapsed": false
   },
   "source": [
    "Interesting note here: most media chose to present the \"vote share\" of each party not against the electorate, but against the valid votes. This gives a boosted number of vote share of 43% for the government."
   ]
  },
  {
   "cell_type": "markdown",
   "metadata": {
    "collapsed": false
   },
   "source": [
    "## Conclusion\n",
    "\n",
    "\n",
    "We now have the answer for both our questions:\n",
    "\n",
    "1) Which part of the electorate voted for a winning candidate: 38% (Parliament representativity)\n",
    "\n",
    "2) Which part of the electorate voted for a Party which ended up in government: 30% (government representativity)\n",
    "\n",
    "## About the author\n",
    "\n",
    "I'm just a bored guy in Belgium who wanted to try Jupyter notebook.\n",
    "\n",
    "I'm generally left-leaning, would have voted Remain and feels strongly about the ineffectiveness of FPTP and how it can be gamed to have a small part of the electorate in control of everything."
   ]
  }
 ],
 "metadata": {
  "kernelspec": {
   "display_name": "Python 3 (system-wide)",
   "language": "python",
   "metadata": {
    "cocalc": {
     "description": "Python 3 programming language",
     "priority": 100,
     "url": "https://www.python.org/"
    }
   },
   "name": "python3"
  },
  "language_info": {
   "codemirror_mode": {
    "name": "ipython",
    "version": 3
   },
   "file_extension": ".py",
   "mimetype": "text/x-python",
   "name": "python",
   "nbconvert_exporter": "python",
   "pygments_lexer": "ipython3",
   "version": "3.6.8"
  }
 },
 "nbformat": 4,
 "nbformat_minor": 0
}